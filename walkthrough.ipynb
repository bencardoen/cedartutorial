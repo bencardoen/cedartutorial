{
 "cells": [
  {
   "cell_type": "markdown",
   "metadata": {},
   "source": [
    "# Accelerating your research with Compute Canada's HPC system."
   ]
  },
  {
   "cell_type": "markdown",
   "metadata": {},
   "source": [
    "### Disclaimer:\n",
    "##### Bodily exercise, when compulsory, does no harm to the body; but knowledge which is acquired under compulsion obtains no hold on the mind. -- Plato, The Republic.\n",
    "\n",
    "This notebook does not replace Cedar's wiki, the Linux man pages, Google, or our own internal documentation.\n",
    "\n",
    "## [Cedar wiki](https://docs.computecanada.ca/wiki/Cedar)\n",
    "## [Internal docs](https://docs.google.com/document/d/1-jgXbtjtpvZlGmheQkAFW-7kAhhFg-MiVGEuLnVIpUQ/edit)\n",
    "## [Getting started](https://hpc-carpentry.github.io/hpc-intro/)\n"
   ]
  },
  {
   "cell_type": "markdown",
   "metadata": {},
   "source": [
    "## Introduction"
   ]
  },
  {
   "cell_type": "markdown",
   "metadata": {},
   "source": [
    "\n",
    "\n",
    "### Interacting with Cedar\n",
    "#### When you need interaction (quickly manipulate selected files in r+w)\n",
    "##### SSHFS: Transparent mounting of your Cedar filesystem onto your own.\n",
    "* + : User friendly\n",
    "* - : Everything goes over the network, not suited for heavy work\n",
    "![image.png](img/sshfs.png)\n",
    "\n",
    "##### [VNC](https://docs.computecanada.ca/wiki/VNC#VDI_Login_Nodes):\n",
    "\n",
    "![image.png](img/vnc.png)\n",
    "\n",
    "* Good for reproducing visual (Matlab etc) work, prototyping\n",
    "* Can be slow\n",
    "\n",
    "#### Large fire and forget syncing\n",
    "##### Globus\n",
    "    * + Fast, fire and forget, portable, web based\n",
    "    * - You can erase source and target\n",
    "![image.png](img/globus.png)\n",
    "\n",
    "##### Rsync, grsync\n",
    "    *  + Powerful synchronizing of remote/local files\n",
    "    *  - Steep learning curve, easy to wipe out both target and source\n",
    "![image.png](img/grsync.png)\n",
    "\n",
    "##### filezilla\n",
    "    * SFTP based copying/sycnhronizing\n",
    "    * Slow\n",
    "![image.png](img/filezilla.png)\n",
    "\n",
    "##### Moving datasets\n",
    "* Globus\n",
    "* SCP\n",
    "\n",
    "##### Downloading large datasets\n",
    "* SSH to Cedar\n",
    "* ```wget <your_data>```"
   ]
  },
  {
   "cell_type": "markdown",
   "metadata": {},
   "source": [
    "## Virtual Environments"
   ]
  },
  {
   "cell_type": "markdown",
   "metadata": {},
   "source": [
    "## Submitting jobs"
   ]
  },
  {
   "cell_type": "markdown",
   "metadata": {},
   "source": [
    "## Power usage\n",
    "### Remote Pycharm development\n",
    "### Grid search on Cedar\n",
    "### Speeding up jobs"
   ]
  },
  {
   "cell_type": "markdown",
   "metadata": {},
   "source": [
    "## Tips and tweaks\n",
    "### rc tweaks\n",
    "### helpful tools\n",
    "### other"
   ]
  },
  {
   "cell_type": "markdown",
   "metadata": {},
   "source": [
    "### Estimating when your job starts\n",
    "```bash\n",
    "$partition-stats\n",
    "```\n",
    "![Partition stats](img/partstats.png)"
   ]
  },
  {
   "cell_type": "markdown",
   "metadata": {},
   "source": [
    "### If we want a 72h node\n",
    "* 65 in total\n",
    "* 0 idle\n",
    "* queue length of 27\n",
    "Using Little's law we then have that:\n",
    "* Expected processing time of the system = 72hr / 65 = 1.1 h\n",
    "* Expected worst case start time of your job = **27.3h**\n",
    "\n",
    "A more realistic estimate would take into account that only in exceptional circumstances a job lasts 72 hr (it will be killed).\n",
    "\n",
    "* Expected processing time of the system = 36hr / 65 = .55 h\n",
    "* Expected worst case start time of your job = **13.5h**"
   ]
  },
  {
   "cell_type": "code",
   "execution_count": null,
   "metadata": {},
   "outputs": [],
   "source": []
  }
 ],
 "metadata": {
  "kernelspec": {
   "display_name": "Python 3",
   "language": "python",
   "name": "python3"
  },
  "language_info": {
   "codemirror_mode": {
    "name": "ipython",
    "version": 3
   },
   "file_extension": ".py",
   "mimetype": "text/x-python",
   "name": "python",
   "nbconvert_exporter": "python",
   "pygments_lexer": "ipython3",
   "version": "3.7.1"
  }
 },
 "nbformat": 4,
 "nbformat_minor": 2
}
